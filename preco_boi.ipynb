{
  "nbformat": 4,
  "nbformat_minor": 0,
  "metadata": {
    "colab": {
      "name": "preco-boi.ipynb",
      "provenance": [],
      "collapsed_sections": [],
      "authorship_tag": "ABX9TyMDvDWe18YMx7Bv15dYK5zG",
      "include_colab_link": true
    },
    "kernelspec": {
      "name": "python3",
      "display_name": "Python 3"
    },
    "language_info": {
      "name": "python"
    }
  },
  "cells": [
    {
      "cell_type": "markdown",
      "metadata": {
        "id": "view-in-github",
        "colab_type": "text"
      },
      "source": [
        "<a href=\"https://colab.research.google.com/github/berlotto/preco-boi/blob/main/preco_boi.ipynb\" target=\"_parent\"><img src=\"https://colab.research.google.com/assets/colab-badge.svg\" alt=\"Open In Colab\"/></a>"
      ]
    },
    {
      "cell_type": "code",
      "metadata": {
        "colab": {
          "base_uri": "https://localhost:8080/"
        },
        "id": "aRkQE9EI-IhV",
        "outputId": "453bc5f9-96a7-490a-c026-b7db997032ba"
      },
      "source": [
        "!pip install xlrd --upgrade"
      ],
      "execution_count": 1,
      "outputs": [
        {
          "output_type": "stream",
          "text": [
            "Requirement already up-to-date: xlrd in /usr/local/lib/python3.7/dist-packages (2.0.1)\n"
          ],
          "name": "stdout"
        }
      ]
    },
    {
      "cell_type": "code",
      "metadata": {
        "colab": {
          "base_uri": "https://localhost:8080/"
        },
        "id": "zkbsXerC0-Ln",
        "outputId": "21af5ab8-691b-44b7-adf3-70f9a8e22ac2"
      },
      "source": [
        "!pip install openpyxl --upgrade"
      ],
      "execution_count": 2,
      "outputs": [
        {
          "output_type": "stream",
          "text": [
            "Requirement already up-to-date: openpyxl in /usr/local/lib/python3.7/dist-packages (3.0.7)\n",
            "Requirement already satisfied, skipping upgrade: et-xmlfile in /usr/local/lib/python3.7/dist-packages (from openpyxl) (1.1.0)\n"
          ],
          "name": "stdout"
        }
      ]
    },
    {
      "cell_type": "code",
      "metadata": {
        "id": "LnZlhVVvvZhl"
      },
      "source": [
        "import pandas as pd\n",
        "from urllib.request import urlretrieve\n",
        "import xlrd"
      ],
      "execution_count": 8,
      "outputs": []
    },
    {
      "cell_type": "code",
      "metadata": {
        "colab": {
          "base_uri": "https://localhost:8080/",
          "height": 35
        },
        "id": "TZFzaDfD_haw",
        "outputId": "5f107d5f-a610-4801-a900-7a3baf3460f8"
      },
      "source": [
        "xlrd.info.__VERSION__"
      ],
      "execution_count": 9,
      "outputs": [
        {
          "output_type": "execute_result",
          "data": {
            "application/vnd.google.colaboratory.intrinsic+json": {
              "type": "string"
            },
            "text/plain": [
              "'2.0.1'"
            ]
          },
          "metadata": {
            "tags": []
          },
          "execution_count": 9
        }
      ]
    },
    {
      "cell_type": "code",
      "metadata": {
        "colab": {
          "base_uri": "https://localhost:8080/"
        },
        "id": "Xv_MqX93vptv",
        "outputId": "3a2aee1c-4a86-4a11-ac72-f0814a5d8fe3"
      },
      "source": [
        "fileurl = 'https://cepea.esalq.usp.br/br/indicador/series/boi-gordo.aspx?id=2'\n",
        "filename = 'precos.xlsx'\n",
        "\n",
        "urlretrieve(fileurl, filename)"
      ],
      "execution_count": 10,
      "outputs": [
        {
          "output_type": "execute_result",
          "data": {
            "text/plain": [
              "('precos.xlsx', <http.client.HTTPMessage at 0x7f0a19f18d50>)"
            ]
          },
          "metadata": {
            "tags": []
          },
          "execution_count": 10
        }
      ]
    },
    {
      "cell_type": "code",
      "metadata": {
        "id": "M4s_YWCUxVC8"
      },
      "source": [
        "# df = pd.read_excel(filename)\n",
        "# from openpyxl import load_workbook\n",
        "# wb2 = load_workbook(filename)\n",
        "book = xlrd.open_workbook(filename=filename, ignore_workbook_corruption=True)"
      ],
      "execution_count": 13,
      "outputs": []
    },
    {
      "cell_type": "code",
      "metadata": {
        "id": "IL5fc8fA9tSR"
      },
      "source": [
        "df = pd.read_excel(book, skiprows=4)\n"
      ],
      "execution_count": 21,
      "outputs": []
    },
    {
      "cell_type": "code",
      "metadata": {
        "colab": {
          "base_uri": "https://localhost:8080/",
          "height": 204
        },
        "id": "pPHrgOXc-fCW",
        "outputId": "d92fbb32-3d0e-47b4-9a23-fd4620f37247"
      },
      "source": [
        "df.head()"
      ],
      "execution_count": 22,
      "outputs": [
        {
          "output_type": "execute_result",
          "data": {
            "text/html": [
              "<div>\n",
              "<style scoped>\n",
              "    .dataframe tbody tr th:only-of-type {\n",
              "        vertical-align: middle;\n",
              "    }\n",
              "\n",
              "    .dataframe tbody tr th {\n",
              "        vertical-align: top;\n",
              "    }\n",
              "\n",
              "    .dataframe thead th {\n",
              "        text-align: right;\n",
              "    }\n",
              "</style>\n",
              "<table border=\"1\" class=\"dataframe\">\n",
              "  <thead>\n",
              "    <tr style=\"text-align: right;\">\n",
              "      <th></th>\n",
              "      <th>23/07/1997</th>\n",
              "      <th>26.67</th>\n",
              "      <th>24.65</th>\n",
              "    </tr>\n",
              "  </thead>\n",
              "  <tbody>\n",
              "    <tr>\n",
              "      <th>0</th>\n",
              "      <td>24/07/1997</td>\n",
              "      <td>26.67</td>\n",
              "      <td>24.65</td>\n",
              "    </tr>\n",
              "    <tr>\n",
              "      <th>1</th>\n",
              "      <td>25/07/1997</td>\n",
              "      <td>26.71</td>\n",
              "      <td>24.68</td>\n",
              "    </tr>\n",
              "    <tr>\n",
              "      <th>2</th>\n",
              "      <td>28/07/1997</td>\n",
              "      <td>26.74</td>\n",
              "      <td>24.70</td>\n",
              "    </tr>\n",
              "    <tr>\n",
              "      <th>3</th>\n",
              "      <td>29/07/1997</td>\n",
              "      <td>26.77</td>\n",
              "      <td>24.72</td>\n",
              "    </tr>\n",
              "    <tr>\n",
              "      <th>4</th>\n",
              "      <td>30/07/1997</td>\n",
              "      <td>26.75</td>\n",
              "      <td>24.71</td>\n",
              "    </tr>\n",
              "  </tbody>\n",
              "</table>\n",
              "</div>"
            ],
            "text/plain": [
              "   23/07/1997  26.67  24.65\n",
              "0  24/07/1997  26.67  24.65\n",
              "1  25/07/1997  26.71  24.68\n",
              "2  28/07/1997  26.74  24.70\n",
              "3  29/07/1997  26.77  24.72\n",
              "4  30/07/1997  26.75  24.71"
            ]
          },
          "metadata": {
            "tags": []
          },
          "execution_count": 22
        }
      ]
    },
    {
      "cell_type": "code",
      "metadata": {
        "id": "Ru_za1Id-_kv"
      },
      "source": [
        ""
      ],
      "execution_count": null,
      "outputs": []
    }
  ]
}